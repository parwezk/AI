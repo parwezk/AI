{
  "nbformat": 4,
  "nbformat_minor": 0,
  "metadata": {
    "colab": {
      "provenance": [],
      "gpuType": "T4",
      "authorship_tag": "ABX9TyNQmgbpO5pjFKg/REiwm3C4",
      "include_colab_link": true
    },
    "kernelspec": {
      "name": "python3",
      "display_name": "Python 3"
    },
    "language_info": {
      "name": "python"
    },
    "accelerator": "GPU"
  },
  "cells": [
    {
      "cell_type": "markdown",
      "metadata": {
        "id": "view-in-github",
        "colab_type": "text"
      },
      "source": [
        "<a href=\"https://colab.research.google.com/github/parwezk/AI/blob/main/Reflection_Langraph.ipynb\" target=\"_parent\"><img src=\"https://colab.research.google.com/assets/colab-badge.svg\" alt=\"Open In Colab\"/></a>"
      ]
    },
    {
      "cell_type": "markdown",
      "source": [
        "**2. Reflection and Refinement in LangGraph**\n",
        "\n",
        "LangGraph allows us to build agentic systems as cyclical graphs. This is perfect for the reflection and refinement pattern, where an initial plan is generated and then passed to another \"critic\" agent (or the same agent with a different prompt) to critique and improve it. The process can loop until the plan meets a certain quality standard."
      ],
      "metadata": {
        "id": "HNS8cjgFFk3T"
      }
    },
    {
      "cell_type": "code",
      "source": [
        "# Install necessary libraries\n",
        "!pip install -qU langchain langchain_openai python-dotenv langgraph autogenstudio --quiet"
      ],
      "metadata": {
        "id": "g7O6YEhb7H46"
      },
      "execution_count": 2,
      "outputs": []
    },
    {
      "cell_type": "code",
      "execution_count": 3,
      "metadata": {
        "id": "wnZELrFL7FMU"
      },
      "outputs": [],
      "source": [
        "# Import libraries and configure the API key\n",
        "import os\n",
        "from google.colab import userdata\n",
        "from dotenv import load_dotenv\n",
        "\n",
        "# Load environment variables (optional, for local development)\n",
        "load_dotenv()\n",
        "\n",
        "# Configure the OpenAI API key for Colab\n",
        "# In Colab, go to the \"Secrets\" tab (key icon on the left) and add a new secret\n",
        "# named OPENAI_API_KEY with your API key as the value.\n",
        "try:\n",
        "    os.environ[\"OPENAI_API_KEY\"] = userdata.get('OPENAI_API_KEY')\n",
        "except userdata.SecretNotFoundError:\n",
        "    # Fallback for local execution if you have a .env file\n",
        "    if \"OPENAI_API_KEY\" not in os.environ:\n",
        "        print(\"OPENAI_API_KEY not found. Please set it as a Colab secret or in your environment.\")"
      ]
    },
    {
      "cell_type": "code",
      "source": [
        "import operator\n",
        "from typing import TypedDict, Annotated\n",
        "from langchain_core.messages import AnyMessage, SystemMessage, HumanMessage\n",
        "from langchain_openai import ChatOpenAI\n",
        "from langgraph.graph import StateGraph, END\n",
        "\n",
        "# 2. Define the State\n",
        "# The state is the central object that is passed between nodes in the graph.\n",
        "class AgentState(TypedDict):\n",
        "    task: str\n",
        "    plan: str\n",
        "    critique: str\n",
        "    iteration_count: int\n",
        "\n",
        "# 3. Define the Graph Nodes (Planner and Critic)\n",
        "llm = ChatOpenAI(model=\"gpt-4\", temperature=0)\n",
        "\n",
        "def planner_node(state: AgentState):\n",
        "    \"\"\"Generates the initial or refined travel plan.\"\"\"\n",
        "    print(\"---PLANNER NODE---\")\n",
        "    prompt = f\"\"\"\n",
        "    Based on the following task, create a detailed 5-day business trip itinerary.\n",
        "    Task: {state['task']}\n",
        "    Previous Plan (if any for refinement): {state['plan']}\n",
        "    Critique (if any): {state['critique']}\n",
        "    Generate a concise, point-by-point itinerary.\n",
        "    \"\"\"\n",
        "    response = llm.invoke(prompt)\n",
        "    state['plan'] = response.content\n",
        "    state['iteration_count'] = state.get('iteration_count', 0) + 1\n",
        "    return state\n",
        "\n",
        "def critique_node(state: AgentState):\n",
        "    \"\"\"Critiques the plan for logical errors or improvements.\"\"\"\n",
        "    print(\"---CRITIQUE NODE---\")\n",
        "    prompt = f\"\"\"\n",
        "    You are a critical travel assistant. Review the following travel plan for feasibility, efficiency, and completeness.\n",
        "    Are the travel times logical? Is there enough time for meetings? Are buffer times included?\n",
        "    Plan: {state['plan']}\n",
        "    Provide constructive feedback. If the plan is good, simply say 'The plan is excellent and requires no changes.'\n",
        "    \"\"\"\n",
        "    response = llm.invoke(prompt)\n",
        "    state['critique'] = response.content\n",
        "    return state\n",
        "\n",
        "# 4. Define the Graph Edges and Conditional Logic\n",
        "def should_continue(state: AgentState):\n",
        "    \"\"\"Decides whether to end the process or continue refining.\"\"\"\n",
        "    print(\"---CHECKING CONDITION---\")\n",
        "    if state['iteration_count'] > 3: # Exit after 3 iterations\n",
        "        return \"end\"\n",
        "    if \"no changes\" in state['critique'].lower():\n",
        "        return \"end\"\n",
        "    else:\n",
        "        return \"continue\"\n",
        "\n",
        "# 5. Build and Run the Graph\n",
        "workflow = StateGraph(AgentState)\n",
        "\n",
        "workflow.add_node(\"planner\", planner_node)\n",
        "workflow.add_node(\"critique\", critique_node)\n",
        "\n",
        "workflow.set_entry_point(\"planner\")\n",
        "\n",
        "workflow.add_edge(\"planner\", \"critique\")\n",
        "workflow.add_conditional_edges(\n",
        "    \"critique\",\n",
        "    should_continue,\n",
        "    {\n",
        "        \"continue\": \"planner\",\n",
        "        \"end\": END\n",
        "    }\n",
        ")\n",
        "\n",
        "app = workflow.compile()\n",
        "\n",
        "# Execute the graph\n",
        "task = \"\"\"\n",
        "Plan a 5-day official business trip for a manager, starting from Delhi.\n",
        "Visits to Bangalore (2 days) and Hyderabad (2 days).\n",
        "Purpose: Team meetings and key discussions.\n",
        "Start Date: Monday, October 6th, 2025.\n",
        "End Date: Friday, October 10th, 2025.\n",
        "\"\"\"\n",
        "\n",
        "initial_state = {\"task\": task, \"plan\": \"\", \"critique\": \"\"}\n",
        "final_state = app.invoke(initial_state)\n",
        "\n",
        "print(\"\\n\\n--- FINAL ITINERARY (Refined) ---\")\n",
        "print(final_state['plan'])"
      ],
      "metadata": {
        "colab": {
          "base_uri": "https://localhost:8080/"
        },
        "id": "KrDxWH6Z7NV6",
        "outputId": "d9fae330-d002-4304-e956-392a9d314ea1"
      },
      "execution_count": 4,
      "outputs": [
        {
          "output_type": "stream",
          "name": "stdout",
          "text": [
            "---PLANNER NODE---\n",
            "---CRITIQUE NODE---\n",
            "---CHECKING CONDITION---\n",
            "---PLANNER NODE---\n",
            "---CRITIQUE NODE---\n",
            "---CHECKING CONDITION---\n",
            "---PLANNER NODE---\n",
            "---CRITIQUE NODE---\n",
            "---CHECKING CONDITION---\n",
            "---PLANNER NODE---\n",
            "---CRITIQUE NODE---\n",
            "---CHECKING CONDITION---\n",
            "\n",
            "\n",
            "--- FINAL ITINERARY (Refined) ---\n",
            "Day 1: Monday, October 6th, 2025 - Delhi to Bangalore\n",
            "- 4:00 AM: Depart from home to Delhi Airport.\n",
            "- 7:00 AM: Flight from Delhi to Bangalore (Expected flight duration: 2.5 hours).\n",
            "- 9:30 AM: Arrive in Bangalore, transfer to the hotel.\n",
            "- 11:00 AM: Check-in at the hotel, freshen up.\n",
            "- 12:00 PM: Lunch at the hotel.\n",
            "- 1:00 PM - 3:00 PM: Team meeting at Bangalore office (Location to be confirmed).\n",
            "- 3:00 PM - 3:30 PM: Break.\n",
            "- 3:30 PM - 5:30 PM: Key discussions with Bangalore team.\n",
            "- 6:00 PM: Dinner at a local restaurant.\n",
            "- 8:00 PM: Free time for personal activities or rest.\n",
            "\n",
            "Day 2: Tuesday, October 7th, 2025 - Bangalore\n",
            "- 8:00 AM: Breakfast at the hotel.\n",
            "- 9:00 AM - 11:00 AM: Follow-up meeting with Bangalore team.\n",
            "- 11:00 AM - 11:30 AM: Break.\n",
            "- 11:30 AM - 1:30 PM: Key discussions and finalizing plans.\n",
            "- 2:00 PM: Lunch at the office.\n",
            "- 3:00 PM - 5:00 PM: Buffer time for extended meetings or unforeseen circumstances.\n",
            "- 5:00 PM - 8:00 PM: Free time for personal activities or sightseeing.\n",
            "- 8:30 PM: Dinner at the hotel.\n",
            "\n",
            "Day 3: Wednesday, October 8th, 2025 - Bangalore to Hyderabad\n",
            "- 4:00 AM: Check-out from the hotel, depart to Bangalore Airport.\n",
            "- 7:00 AM: Flight from Bangalore to Hyderabad (Expected flight duration: 1 hour).\n",
            "- 8:00 AM: Arrive in Hyderabad, transfer to the hotel.\n",
            "- 10:00 AM: Check-in at the hotel, freshen up.\n",
            "- 11:00 AM - 1:00 PM: Team meeting at Hyderabad office (Location to be confirmed).\n",
            "- 1:30 PM: Lunch at the office.\n",
            "- 2:30 PM - 4:30 PM: Key discussions with Hyderabad team.\n",
            "- 5:00 PM: Dinner at a local restaurant.\n",
            "- 7:00 PM: Free time for personal activities or rest.\n",
            "\n",
            "Day 4: Thursday, October 9th, 2025 - Hyderabad\n",
            "- 8:00 AM: Breakfast at the hotel.\n",
            "- 9:00 AM - 11:00 AM: Follow-up meeting with Hyderabad team.\n",
            "- 11:00 AM - 11:30 AM: Break.\n",
            "- 11:30 AM - 1:30 PM: Key discussions and finalizing plans.\n",
            "- 2:00 PM: Lunch at the office.\n",
            "- 3:00 PM - 5:00 PM: Buffer time for extended meetings or unforeseen circumstances.\n",
            "- 5:00 PM - 8:00 PM: Free time for personal activities or sightseeing.\n",
            "- 8:30 PM: Dinner at the hotel.\n",
            "\n",
            "Day 5: Friday, October 10th, 2025 - Hyderabad to Delhi\n",
            "- 4:00 AM: Check-out from the hotel, depart to Hyderabad Airport.\n",
            "- 7:00 AM: Flight from Hyderabad to Delhi (Expected flight duration: 2 hours).\n",
            "- 9:00 AM: Arrive in Delhi, transfer to home.\n",
            "- Rest of the day: Free for personal activities or rest.\n"
          ]
        }
      ]
    }
  ]
}